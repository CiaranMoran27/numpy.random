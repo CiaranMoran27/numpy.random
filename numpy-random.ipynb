{
 "cells": [
  {
   "cell_type": "markdown",
   "id": "31e0cc4b-6262-4aa1-8ad8-e507f25371ae",
   "metadata": {},
   "source": [
    "<img src=\"Images/numpy.png\" width=\"450\"> "
   ]
  },
  {
   "cell_type": "markdown",
   "id": "1b8e7f05-bbad-4719-bf9c-19100625f7e1",
   "metadata": {},
   "source": [
    "<br>\n",
    "\n",
    "# The NumPy.random package\n",
    "[Official Documentation](https://numpy.org/doc/stable/reference/random/index.html)\n",
    "***  "
   ]
  },
  {
   "cell_type": "markdown",
   "id": "33005f16-8e20-46ee-a6a2-b073113195de",
   "metadata": {},
   "source": [
    "<br>\n",
    "\n",
    "## Assignment Objectives\n",
    "- Explain the overall purpose of the numpy.random package.\n",
    "- Explain the use of the “Simple random data” and “Permutations” functions.\n",
    "- Explain the use and purpose of at least five “Distributions” functions.\n",
    "- Explain the use of seeds in generating pseudorandom numbers."
   ]
  },
  {
   "cell_type": "markdown",
   "id": "b9a8b983-6c1b-46fa-aebe-0ef497d820d1",
   "metadata": {},
   "source": [
    "<br>\n",
    "\n",
    "### Overall purpose of the package\n",
    "\n",
    "#### numpy (Version 1.21)\n",
    "NumPy (Numerical Python) is a very popular open source library comprised of multidimensional array objects, mathematical functions, linear algebra<br>\n",
    "routines, random number generators and more [1]. The library is very popular due to its high level syntax and ability to perform rapid data operations.<br>\n",
    "One can explain the speed by looking deeper at how the package operates. Data structures known as ndarrays (N-dimensional arrays) only accept data of<br>\n",
    "the same type and then map these data structured to highly optimised C compiled code [2]. As Soklaski 2020 describes, this process of vectorization is<br>\n",
    "so effective when compared to iterating lists and tuples as the ndarrays dont have to check every elements data-type on iteration, resulting in a process<br>\n",
    "that is orders of magniture faster.<br> \n",
    "\n",
    "NumPy's operational speed and diversity of mathematical functions make the package of great utility for tasks that involve numerical processing on large<br>\n",
    "datasets, such as Machine Learning. The package also provides a very useful module for generating random numbers that will now be explored, a package<br>\n",
    "named *numpy.random*.\n",
    "\n",
    "<br>\n",
    "\n",
    "#### numpy.random\n",
    "\n",
    "This sub-module has the ability to produce pseudo-random sequences and model chosen statistical distribtions, which can be powerful when applied to data<br>\n",
    "science or machine learning applications. Considering that certain real world phenomena follow predictable distibutions when the sample size is of sufficient<br> \n",
    "scale, one can generate a model and make predictons. An example of this would be modelling population as a *normal distribtuion* (bell-curve shape) and using<br> \n",
    "this model to make predictions on real-world data.\n",
    "\n",
    "As per the offical documnetation the random sub-module functions can be categorized into the following: <br>\n",
    "- *Simple random data* functions that can generate pseudo-random data arrays. \n",
    "- *Permutations* function that are used to randomly modify a sequence.\n",
    "- *Distribution* functions that use randomly generated arrays to sample from a chosen statistical distribtuion.<br>\n"
   ]
  },
  {
   "cell_type": "markdown",
   "id": "c5218ec8-0da2-4d07-9268-67207eac6da7",
   "metadata": {},
   "source": [
    "<br>\n",
    "\n",
    "### Simple random data\n",
    "***\n",
    "As per the offical documentation, the approach of numPy V1.21 to generating random numbers consists of using a *BitGenerators* and a *random generator*.<br> \n",
    "The BitGenerators produces an array of random bits which which are passed to a generator, which can be used to model different probability distributions.<br>\n",
    "One can call the *default_rng()* constructor to instansiate an object of the Generator Class and then apply *simple random data* functions that belong to the class.<br> Before exploring this further lets import the relevant libraries and define histogram functions for future use."
   ]
  },
  {
   "cell_type": "code",
   "execution_count": 1,
   "id": "c1001999-0d30-4880-8819-1ebcb2b52481",
   "metadata": {},
   "outputs": [],
   "source": [
    "\n",
    "# import libraries\n",
    "%matplotlib inline\n",
    "import numpy as np    \n",
    "import pandas as pd\n",
    "import matplotlib.pyplot as plt       \n",
    "import statistics\n",
    "\n",
    "# Construct new Generator and store in rng variable\n",
    "# Uses default BitGenerator (PCG64)\n",
    "rng = np.random.default_rng()"
   ]
  },
  {
   "cell_type": "code",
   "execution_count": 2,
   "id": "18dd1443-4274-4044-aaed-fd15826d611d",
   "metadata": {},
   "outputs": [],
   "source": [
    "def plot_hist_twice(array_one, array_two, title_one, title_two, fig_ref):\n",
    "    \n",
    "    fig, axs = plt.subplots(1, 2, sharex = True, sharey = False, figsize = (8, 5))\n",
    "    axs[0].hist(array_one, density = False, bins = 30, rwidth = 10)\n",
    "    axs[1].hist(array_two, density = False, bins = 30, rwidth = 10)\n",
    "    \n",
    "    plt.figtext(0.5, 0.0, fig_ref, wrap=True, horizontalalignment = 'center', fontsize = 15)   \n",
    "        \n",
    "    # loop over axes objects in the figure object.. why not\n",
    "    \n",
    "    for plot_index, ax in enumerate(fig.axes):          \n",
    "        ax.set_xlabel('data range')   \n",
    "        ax.set_facecolor('silver')\n",
    " \n",
    "        if plot_index < 1:     \n",
    "            ax.set_title(str(title_one))  \n",
    "            ax.set_ylabel('count')\n",
    "        else:     \n",
    "            ax.set_title(str(title_two))  \n",
    "     \n",
    "    fig.tight_layout(pad = 2)\n",
    "    plt.show()\n"
   ]
  },
  {
   "cell_type": "markdown",
   "id": "7fe9b429-158d-42fe-8abf-6cc1e7b8c061",
   "metadata": {},
   "source": [
    "<br>\n",
    "\n",
    "#### Random Generator Functions\n",
    "\n",
    "This version of NumPy recommends two random number generating functions that can be utilised when one accesses the Generator via<br>\n",
    "*np.random.default_rng()*. Both functions produce random numbers from the uniform distribution. In other words, all outcomes are equally likely and can<br> produce a symmetric probability distribution when the sample size sufficient scale, see the two functions below.\n",
    "\n",
    "- ***generator.integers()*** <br>\n",
    "Produces random integers from a \"discrete\" uniform distribution. This means that any symmetric probability distriubtion has a finite number of<br>\n",
    "values [7]. This makes sense as the function produces whole numbers. See *Figure 1* below and the code used to generate the histogram to see the uniformity<br> of the distribution and how it increases with a larger sample size.<br><br>\n",
    "- ***generator.random()*** <br>\n",
    "Produces random floating point numbers from a “continuous\" uniform distribution, i.e : any symmetric probability distriubtion has an infinite number of<br> possible values [7]. This also makes sense as the function can produce an infinite range of numbers (floats)."
   ]
  },
  {
   "cell_type": "code",
   "execution_count": 3,
   "id": "b236dfbb-ace0-4fcb-8ae6-219cb1bdf1f3",
   "metadata": {},
   "outputs": [
    {
     "name": "stdout",
     "output_type": "stream",
     "text": [
      "                             data type check :int64\n"
     ]
    },
    {
     "data": {
      "image/png": "[encoded data removed]",
      "text/plain": [
       "<Figure size 576x360 with 2 Axes>"
      ]
     },
     "metadata": {
      "needs_background": "light"
     },
     "output_type": "display_data"
    }
   ],
   "source": [
    "# generator.integers function\n",
    "# syntax: Generator.integers(low, high=None, size=None, dtype=np.int64, endpoint=False)\n",
    "\n",
    "# Call integers function on generator and pass n values  \n",
    "# of range 0 (inclusive) to 1001 (exclusive) and dtype int64    \n",
    "small_array = rng.integers(1001, size = 10000)     \n",
    "large_array = rng.integers(1001, size = 10000000)   \n",
    "\n",
    "# check data type\n",
    "print(' '*28, 'data type check :' + str(small_array.dtype))\n",
    "\n",
    "# Pass variables to hist function\n",
    "plot_hist_twice(small_array, large_array, 'n = 10000', 'n = 10000000', 'Figure 1')"
   ]
  },
  {
   "cell_type": "markdown",
   "id": "cda830c8-6570-41c6-98a5-6eba1dd75fb9",
   "metadata": {},
   "source": [
    "<br>\n",
    "\n",
    "#### Choice Function\n",
    "This function can:\n",
    "- Create a random array similar to the *np.arange()* function.\n",
    "- Generate or selects a random sample from a given 1-darray or list. As per the documentation the choice method samples from a uniform distribution, however\n",
    "<br>one can pass a probability list / array to alter this distribution (Reference Figure 2).\n"
   ]
  },
  {
   "cell_type": "code",
   "execution_count": 4,
   "id": "2ded4cd1-83c7-4ab9-8280-f679ca348880",
   "metadata": {},
   "outputs": [
    {
     "data": {
      "text/plain": [
       "array([4, 1, 6, 9, 1, 2, 4, 5, 1, 5], dtype=int64)"
      ]
     },
     "execution_count": 4,
     "metadata": {},
     "output_type": "execute_result"
    }
   ],
   "source": [
    "# randomly select 10 numbers between 0 - 10\n",
    "rand_array = rng.choice(11, size = 10)     # acts like np.arange(n)\n",
    "rand_array "
   ]
  },
  {
   "cell_type": "code",
   "execution_count": 5,
   "id": "78594df8-7dc6-4095-a2b9-021f41f6a75c",
   "metadata": {},
   "outputs": [
    {
     "data": {
      "image/png": "[encoded data removed]",
      "text/plain": [
       "<Figure size 576x432 with 1 Axes>"
      ]
     },
     "metadata": {
      "needs_background": "light"
     },
     "output_type": "display_data"
    }
   ],
   "source": [
    "\n",
    "# This cell will explore the choice methods ability to sample from a uniform distribution\n",
    "# and its p (probability) parameter\n",
    "\n",
    "colors = ['blue', 'black', 'green', 'red', 'yellow', 'orange', 'purple', 'brown', 'white']\n",
    "selections = []\n",
    "selections_weighted = []\n",
    "probabilities = []\n",
    "\n",
    "# append choices from color list to selections list\n",
    "for i in range(10000):\n",
    "    selection = rng.choice(colors) \n",
    "    selections.append(selection)\n",
    "    \n",
    " \n",
    "    # make weighted proability list \n",
    "for color in colors:\n",
    "    if color in ['black', 'brown', 'purple']:\n",
    "        probabilities.append(0.05)\n",
    "    else:\n",
    "        probabilities.append(0.85/6)\n",
    "        \n",
    "    # make choices over large range\n",
    "for i in range(100000):\n",
    "    selection_weighted = rng.choice(colors, p = probabilities)      # pass weighted probability list to choice()  \n",
    "    selections_weighted.append(selection_weighted)                  # append choices to weighted list\n",
    "\n",
    "# plot hisrogram \n",
    "plt.figure(figsize = (8, 6))\n",
    "plt.hist(selections_weighted, bins = 25)     \n",
    "plt.figtext(0.5, 0.01, 'Figure 2', wrap = True, horizontalalignment = 'center', fontsize = 15)  \n",
    "plt.title('Color counts from choice function')  \n",
    "plt.xticks(colors)\n",
    "plt.ylabel('Count')\n",
    "plt.tight_layout(pad = 2)\n",
    "plt.show()"
   ]
  },
  {
   "cell_type": "markdown",
   "id": "13becabd-80cf-439c-b6c1-e1ba375e94c0",
   "metadata": {},
   "source": [
    "**Figure 2** Shows a uniform distribution for blue, green, red, yellow, orange, white. One can see the choice method selected black, brown and purple less <br>\n",
    "frequently as each item had a probability of circa 5% (0.05 in code), despite being uniformly selected relative to eachother."
   ]
  },
  {
   "cell_type": "markdown",
   "id": "a763b143-78c5-4478-b291-4360970b436f",
   "metadata": {},
   "source": [
    "<br>\n",
    "\n",
    "### Pemutation Functions\n",
    "When dealing with ndarrays, one can think of a permutation as any possible arrangment of the elements in that array [8]. NumPy offers three different <br>\n",
    "permutation functions that can randomly re-arrange the element sequence of the given array, these functions will be explored in more detail below. <br>\n",
    "\n",
    "<br>\n",
    "\n",
    "**Some uses in Machine Learning:**   \n",
    "1. Shuffling can be used to reduce the variance and prevent a given model from learning irrelevant noise through its training dataset which would in turn effects<br>\n",
    "its ability to accurately predict new data (overfitting)[9]. Calomme 2017 describes how in a in regular stochastic gradient descent one should shuffle their<br>\n",
    "data after each epoch to keep model learning without selection bias. <br> <br>\n",
    "2. In a Machine Learning model feature importance is of great interest as it informs the data scientist what features have the greatest impact on a models ability<br>\n",
    "to make accurate predictions. One can deduce information on features importance by randomly shuffling selected selected values and observing the new predicitions of<br>\n",
    "the model relative to its original prediction. Billiau 2021 describes how a small decrease in model accuracy suggests that the shuffled data are not contributing<br>\n",
    "heavily to your models ability to predict outcomes. The process can be very useful when correctly applied accross all features as one can now rank order the featues<br>\n",
    "by importance."
   ]
  },
  {
   "cell_type": "code",
   "execution_count": 6,
   "id": "d39299bd-b8d4-4f3c-8ba6-5672ab4a3c04",
   "metadata": {},
   "outputs": [
    {
     "name": "stdout",
     "output_type": "stream",
     "text": [
      "Template Array\n",
      "[[ 0  1  2  3  4]\n",
      " [ 5  6  7  8  9]\n",
      " [10 11 12 13 14]]\n",
      "\n",
      "Shuffled sub arrays along rows (axis = 0)  \n",
      "Inplace always True\n",
      "[[ 5  6  7  8  9]\n",
      " [10 11 12 13 14]\n",
      " [ 0  1  2  3  4]]\n",
      "\n",
      "Permutation of sub arrays along cols (axis = 1)  \n",
      "Generates Copy\n",
      "[[ 2  3  0  4  1]\n",
      " [ 7  8  5  9  6]\n",
      " [12 13 10 14 11]]\n",
      "\n",
      "Permuted Array \n",
      "Each slice of rows shuffled independantly\n",
      "[[ 0 11  2  8 14]\n",
      " [ 5  1 12  3  9]\n",
      " [10  6  7 13  4]]\n"
     ]
    }
   ],
   "source": [
    "# template array\n",
    "array = np.arange(15).reshape((3, 5))\n",
    "print('Template Array')\n",
    "print(array)\n",
    "\n",
    "# axis = 0 shuffles rows\n",
    "# axies =1 shuffles columns\n",
    "\n",
    "# shuffle template along rows \n",
    "rng.shuffle(array, axis = 0)                     \n",
    "print('\\nShuffled sub arrays along rows (axis = 0)  \\nInplace always True')\n",
    "print(array)\n",
    "\n",
    "\n",
    "# define new array and shuffle along columns\n",
    "array = np.arange(15).reshape((3, 5))                                             \n",
    "array_cols_permutation = rng.permutation(array, axis = 1)\n",
    "print('\\nPermutation of sub arrays along cols (axis = 1)  \\nGenerates Copy')\n",
    "print(array_cols_permutation)\n",
    "\n",
    "\n",
    "# template passed to permuted function \n",
    "array_permuted = rng.permuted(array, axis = 0)  \n",
    "print('\\nPermuted Array \\nEach slice of rows shuffled independantly')\n",
    "print(array_permuted)"
   ]
  },
  {
   "cell_type": "code",
   "execution_count": null,
   "id": "1ea7cbec-a588-4ff2-86ef-181600e3b583",
   "metadata": {},
   "outputs": [],
   "source": []
  },
  {
   "cell_type": "code",
   "execution_count": null,
   "id": "811003b4-8816-4311-b0cd-d225b68be29f",
   "metadata": {},
   "outputs": [],
   "source": []
  },
  {
   "cell_type": "code",
   "execution_count": null,
   "id": "d4ee90de-b1ec-4d9c-96dd-ef696d98946e",
   "metadata": {},
   "outputs": [],
   "source": []
  },
  {
   "cell_type": "markdown",
   "id": "6220a46f-6e77-490a-a259-46b89acc482c",
   "metadata": {},
   "source": [
    "### Probability Distributions\n",
    "A probability distribution is a function that describes all of the possible outcomes of a random variable along with their corresponding probability values [13]. The numPy package<br>\n",
    "provides a range of subroutines that can model important statistical distributions. These subroutine can be accessed by calling the default_rng() constructor to instansiate an object<br>\n",
    "of the Generator Class and calling the distribution subroutine on the object. \n",
    "\n",
    "The ability to sample random data from chosen distribution is of great benifit as one can model different scenarios if they have information on the distribution subroutine input<br> \n",
    "parameters. The ease of access to probability distributions allows one to predict or calculate the probabilies of defined outcomes. Brooks-Bartlett 2018 breaks down the different<br>\n",
    "types of probability predictor functions into:\n",
    "- Probability Mass Function (PMF): Represents discrete probability distributions and can calculate probability of an outcome.\n",
    "- Probability Density Function (PDF): Represents continuous probability distributions and can calculate probability over a range by integrating the area under a curve.\n",
    "\n",
    "Onnen, 2021 describes how data scientists can join the dots of the 3-point-estimation technique to avoid business pitfalls, i.e: model the best case, likely case and worst<br>\n",
    "case to help describe possible outcomes with their associated probabilities. Key distributions offered by numPy will now be explored."
   ]
  },
  {
   "cell_type": "markdown",
   "id": "3db15a53-ba66-488b-b784-e09169dbe612",
   "metadata": {},
   "source": [
    "<br>\n",
    "\n",
    "#### Normal distribution \n",
    "[Official Documentation](https://numpy.org/doc/stable/reference/random/generated/numpy.random.normal.html)\n"
   ]
  },
  {
   "cell_type": "markdown",
   "id": "c2b1b11e-d34e-410b-8c7c-e3682872babc",
   "metadata": {},
   "source": [
    "##### Function Usage\n",
    "*Syntax: random.Generator.normal(loc = 0.0, scale = 1.0, size = None)* <br>\n",
    "\n",
    "This function draw random samples from a Guassian (normal) distribution. It accepts 3 parameters:\n",
    "- *loc*: this is the mean or centre of the normal distribution.\n",
    "- *scale*: this is the standard deviation or spread of the distribution.\n",
    "- *size*: Shape of output array (number of dimensions * number of samples drawn (exclusive))\n",
    "\n"
   ]
  },
  {
   "cell_type": "markdown",
   "id": "a94b7e9b-d9c3-497d-ab5f-22a1ec243432",
   "metadata": {},
   "source": [
    "##### Distribution Description\n",
    "The shape of the distribution resembles that of a bell<br>\n",
    "shape curve and as per Barai 2020, some of its key chracteristics include: <br>\n",
    "\n",
    "- Continuous  distribution, one local maximum in centre of distribution where the variables spread evenly from this mode.<br>\n",
    "- Symmetric about the mean, whereby a perfect normal distribution has the same mean, median and mode (this will be explored later).\n",
    "- The Standard Normal Distribution (mean = 0, standard deviation = 1) has defined data spread:\n",
    "    - 68.3 % of data falls withing one std devs of the mean\n",
    "    - 99.7 %  of data falls withing three std devs of the mean\n",
    "\n",
    "The normal distribution can be described by its mean and standard deviation, whereby the probability of being selected rises as you approach the mean and spread increases<br>\n",
    "with standard deviation, thereby effecting the heaviness of the distribution tails (kurtosis)[15]. See *Figure 4* below for exploration of how the standard normal distribution<br>\n",
    "changes with different mean and std dev values,  \n"
   ]
  },
  {
   "cell_type": "code",
   "execution_count": 7,
   "id": "42f2fd73-3392-42e9-ad77-09a6e2c740e8",
   "metadata": {},
   "outputs": [
    {
     "data": {
      "image/png": "[encoded data removed]",
      "text/plain": [
       "<Figure size 720x432 with 2 Axes>"
      ]
     },
     "metadata": {
      "needs_background": "light"
     },
     "output_type": "display_data"
    }
   ],
   "source": [
    "def plot_normal_distributions(axis_check, mean, std_dev):\n",
    "    # pass mean, std dev and number of runs into generator.normal function\n",
    "    normal_array = rng.normal(mean, std_dev, 1000000)      \n",
    "    \n",
    "    if axis_check == 'axis_1':\n",
    "        ax1.hist(normal_array, bins = 100, histtype = 'step', linewidth = 2.0, \n",
    "                    label = \"std dev = \" + str(std_dev) + \", mean = \" + str(mean), density = True) \n",
    "        \n",
    "        ax1.set_title('Normal Distribution (Std Dev altered)')\n",
    "        ax1.set_ylabel('frequency')\n",
    "        ax1.legend(loc='upper right')\n",
    "        \n",
    "    else:\n",
    "        ax2.hist(normal_array, bins = 100, histtype = 'step', linewidth = 2.0, \n",
    "                    label = \"std dev = \" + str(std_dev) + \", mean = \" + str(mean), density = True) \n",
    "        \n",
    "        ax2.set_title('Normal Distribution (mean altered)')\n",
    "        ax2.set_ylabel('frequency')\n",
    "        ax2.legend(loc='upper right')\n",
    "\n",
    "# generate 2 subpots and pass axis_check, mean and std dev to plotting function        \n",
    "Fig, (ax1, ax2) = plt.subplots(2, 1, sharex = True, sharey = True, figsize = (10, 6))\n",
    "plt.figtext(0.5, 0.0, 'Figure 3', wrap = True, horizontalalignment = 'center', fontsize = 15)\n",
    "\n",
    "plot_normal_distributions('axis_1', mean = 0, std_dev = 1)\n",
    "plot_normal_distributions('axis_1', mean = 0, std_dev = 2)\n",
    "plot_normal_distributions('axis_1', mean = 0, std_dev = 3)\n",
    "plot_normal_distributions('axis_2', mean = 0, std_dev = 2)\n",
    "plot_normal_distributions('axis_2', mean = 3, std_dev = 2)\n",
    "plot_normal_distributions('axis_2', mean = 6, std_dev = 2)\n",
    "\n",
    "plt.show()"
   ]
  },
  {
   "cell_type": "markdown",
   "id": "bf53d98e-c8c1-4afc-986e-786e60366a05",
   "metadata": {},
   "source": [
    "\n",
    "<br>\n",
    "\n",
    "##### Probability Density Function\n",
    "\n",
    "The numPy normal generator will now be used to generate a standard normal distribution array which will be plotted. The array will be plotted on a histogram <br>\n",
    "and each bin (x data point) will be passed as a paramater to the normal proability distribution function to yield the corresponding y data point and eventually a lineplot.<br>\n",
    "The closeness of the mean, median and mode will also be confirmed.\n"
   ]
  },
  {
   "cell_type": "markdown",
   "id": "bc410c58-819e-4781-9e60-4eaa0dbb48b2",
   "metadata": {},
   "source": [
    "<h3>PDF (normal): &nbsp;  $P(x)=\\frac{1}{\\sqrt{2πσ^2}}{e^\\frac{(x-µ)^2}{2σ^2}}$ <h3>"
   ]
  },
  {
   "cell_type": "code",
   "execution_count": 8,
   "id": "4025a0bc-a570-49c5-90df-617cadec2e27",
   "metadata": {},
   "outputs": [
    {
     "name": "stdout",
     "output_type": "stream",
     "text": [
      "\n",
      "           This plot shows that the data generated by the np.normal distribution\n",
      "           function aligns with the data generated by the probability density\n",
      "           function for a Gaussian distribution. Also the input values for the\n",
      "           mean & std dev (0 & 1) closely resemble the output values in the\n",
      "           generated array showing an accuracy of 0.1 - 0.2 %. The slight\n",
      "           error makes sense as the model is performing random sampling.\n"
     ]
    },
    {
     "data": {
      "image/png": "[encoded data removed]",
      "text/plain": [
       "<Figure size 720x432 with 1 Axes>"
      ]
     },
     "metadata": {
      "needs_background": "light"
     },
     "output_type": "display_data"
    }
   ],
   "source": [
    "# plot Continuous Standard Normal Distribution \n",
    "# define variables\n",
    "mean = 0\n",
    "std_dev = 1\n",
    "\n",
    "# generate normal array \n",
    "normal_array = np.random.normal(mean, std_dev, 100000)\n",
    "\n",
    "# plot histogram given normal array \n",
    "fig, ax = plt.subplots(figsize = (10, 6))\n",
    "count, bins, ignored = plt.hist(normal_array, 100, density = True)\n",
    "plt.figtext(0.5, 0.0, 'Figure 4', wrap=True, horizontalalignment = 'center', fontsize = 15) \n",
    "\n",
    "# define probability density function (equation shown in PDF1 below)\n",
    "f = 1/(std_dev * np.sqrt(2 * np.pi)) * np.exp(-(bins - mean)**2/(2 * std_dev**2))\n",
    "\n",
    "# calc 3x stats for normal curve\n",
    "mean = round(statistics.mean(normal_array), 3)\n",
    "median = round(statistics.median(normal_array), 3)\n",
    "mode = round(statistics.mode(normal_array), 3)\n",
    "std_dev = round(np.std(normal_array), 4)\n",
    "\n",
    "# plot probability density line\n",
    "plt.plot(bins, f, linewidth = 2);                     \n",
    "plt.ylabel('frequency');    \n",
    "plt.title('Continuous Standard Normal Distribution\\nMean = {}     Median =  {}       Mode = {}      Std Dev = {}'.format(mean, median, mode, std_dev)); \n",
    "\n",
    "# description for plot\n",
    "string_spacer = [' ' * 11 for i in range(6)]\n",
    "print('\\n{}This plot shows that the data generated by the np.normal distribution\\n\\\n",
    "{}function aligns with the data generated by the probability density\\n\\\n",
    "{}function for a Gaussian distribution. Also the input values for the\\n\\\n",
    "{}mean & std dev (0 & 1) closely resemble the output values in the\\n\\\n",
    "{}generated array showing an accuracy of 0.1 - 0.2 %. The slight\\n\\\n",
    "{}error makes sense as the model is performing random sampling.'.format(*string_spacer))    # add comment about random variability \n"
   ]
  },
  {
   "cell_type": "markdown",
   "id": "27068d01-fe8a-4ede-9f2d-808490ea9d37",
   "metadata": {},
   "source": [
    "##### Modelling Real World Data\n",
    "\n",
    "The Normal distribution is considered one of the most important of the probability distributions in statistics. This distribution occurs in many real wold phenomena such as age,<br>\n",
    "height, test-scores, IQ scores, men's height etc. Sharma (2019) helps explain this by describing how larger data sets with finite variances and independent feature probabilities<br>\n",
    "will have a data distribution that favours the bell curve shape [11]. \n",
    "\n",
    "The numPy normal function will now be used to model men's height and the results will be compared to that of a real world dataset. The mean and standard deviation parameters that<br>\n",
    "will be passed into the normal function will be obtained from the dataset. "
   ]
  },
  {
   "cell_type": "code",
   "execution_count": 9,
   "id": "7c5e0782-da59-48ec-857d-01cd9f9b483f",
   "metadata": {},
   "outputs": [
    {
     "name": "stdout",
     "output_type": "stream",
     "text": [
      "Average male heights in inches = 69.03\n",
      "Std Dev. of male heights = 2.86\n",
      "Observiations = 5000\n"
     ]
    }
   ],
   "source": [
    "\n",
    "# read in mens height data to numpy array\n",
    "# url reference to zip file: https://www.kaggle.com/mustafaali96/weight-height/download\n",
    "\n",
    "read_path = r'numpy_data_sets\\weight-height.csv'             # define read path for real world data\n",
    "df = pd.read_csv(read_path)                                  # read in csv file\n",
    "df = df.loc[df.loc[:, 'Gender'] == 'Male']                   # filter gender by male\n",
    "male_heights = df['Height']                                  # isolate height column\n",
    "male_height_mean = np.mean(male_heights)                  # calc mean for normal plot\n",
    "male_height_std_dev = np.std(male_heights)                # calc std dev for normal plot\n",
    "\n",
    "print('Average male heights in inches = {}'.format(round(male_height_mean, 2)))\n",
    "print('Std Dev. of male heights = {}'.format(round(male_height_std_dev, 2)))\n",
    "print('Observiations = {}'.format(len(male_heights)))"
   ]
  },
  {
   "cell_type": "code",
   "execution_count": 10,
   "id": "c975c09c-b99a-49de-8c18-4cfad76d4487",
   "metadata": {},
   "outputs": [],
   "source": [
    "\n",
    "# Draw random samples from a normal (Gaussian) distribution passing the mean\n",
    "# and std dev. from the real world dataset along with the same number of records\n",
    "normal_array = np.random.normal(male_height_mean, male_height_std_dev, 5000)      "
   ]
  },
  {
   "cell_type": "code",
   "execution_count": 11,
   "id": "b8781a8e-eab9-4155-9ccd-1315cfa2f383",
   "metadata": {},
   "outputs": [
    {
     "name": "stdout",
     "output_type": "stream",
     "text": [
      "\n",
      "           Both plots show skew & kurtosis values close to zero showing how\n",
      "           normal both distributions are. Interestingly the real world world\n",
      "           data values deviate further from zero than the numpy data which \n",
      "           makes sense as the normal package samples from a normal distribution\n",
      "           and the real world data tends towards a normal distribution. The real\n",
      "           world data shows a more negative skew as slightly more data is\n",
      "           concentrated on right hand side. The kurtosis of the real world\n",
      "           sample is slightly positive as the tails contain slightly more\n",
      "           data than that of a perfectly normal distribution.\n",
      "\n"
     ]
    },
    {
     "data": {
      "image/png": "[encoded data removed]",
      "text/plain": [
       "<Figure size 720x432 with 2 Axes>"
      ]
     },
     "metadata": {
      "needs_background": "light"
     },
     "output_type": "display_data"
    }
   ],
   "source": [
    "## convert normal array to pandas series\n",
    "normal_series = pd.Series(normal_array)                            \n",
    "\n",
    "# calc skew & kurtosis for numpy and real world array\n",
    "normal_skew = round(normal_series.skew(), 4)\n",
    "normal_kurtosis = round(normal_series.kurtosis(), 4)\n",
    "male_heights_skew = round(male_heights.skew(), 4) \n",
    "male_heights_kurtosis = round(male_heights.kurtosis(), 4)\n",
    "\n",
    "# make 1x2 subplot to compare histograms of np.normal vs real world data\n",
    "Fig, (ax1, ax2) = plt.subplots(1, 2, sharex = False, sharey = False, figsize = (10, 6))\n",
    "plt.figtext(0.5, 0, 'Figure 5', wrap = True, horizontalalignment = 'center', fontsize = 15); \n",
    "\n",
    "ax1.hist(normal_array, bins = 100, linewidth = 2.0, density = False) \n",
    "ax2.hist(male_heights, bins = 100, linewidth = 2.0, density = False,  color = \"red\") \n",
    "\n",
    "ax1.set_xlabel('Data Range')\n",
    "ax1.set_ylabel('Count')\n",
    "ax1.set_title('Normal Distribution (np.normal)\\n skew = {}    kurtosis = {}'\n",
    "              .format(normal_skew, normal_kurtosis))\n",
    "\n",
    "ax2.set_xlabel('Height (inches)')\n",
    "ax2.set_ylabel('Count')\n",
    "ax2.set_title('Real World Data (Mens Height)\\n skew = {}    kurtosis = {}'\n",
    "              .format(male_heights_skew, male_heights_kurtosis))\n",
    "\n",
    "# description for plot\n",
    "string_spacer = [' ' * 11 for i in range(9)]\n",
    "print('\\n{}Both plots show skew & kurtosis values close to zero showing how\\n\\\n",
    "{}normal both distributions are. Interestingly the real world world\\n\\\n",
    "{}data values deviate further from zero than the numpy data which \\n\\\n",
    "{}makes sense as the normal package samples from a normal distribution\\n\\\n",
    "{}and the real world data tends towards a normal distribution. The real\\n\\\n",
    "{}world data shows a more negative skew as slightly more data is\\n\\\n",
    "{}concentrated on right hand side. The kurtosis of the real world\\n\\\n",
    "{}sample is slightly positive as the tails contain slightly more\\n\\\n",
    "{}data than that of a perfectly normal distribution.\\n'.format(*string_spacer))\n"
   ]
  },
  {
   "cell_type": "markdown",
   "id": "e1c4fe03-7b27-47ab-93fc-253d6a64594a",
   "metadata": {},
   "source": [
    "#### Binomial distribution\n",
    "[Official Documentation](https://numpy.org/doc/stable/reference/random/generated/numpy.random.Generator.binomial.html#numpy.random.Generator.binomial)"
   ]
  },
  {
   "cell_type": "markdown",
   "id": "0d12a8f0-2758-4088-9071-9fbda6e94283",
   "metadata": {},
   "source": [
    "##### Function Usage\n",
    "Syntax: random.Generator.binomial(n, p, size=None)\n",
    "\n",
    "This function draw random samples from a binomial  distribution. It accepts 3 parameters:\n",
    "- *n*: this is the number of trials.\n",
    "- *p*: this is the probability of success for each trial.\n",
    "- *size*: Shape of output array (number of dimensions * number of samples drawn (exclusive))\n"
   ]
  },
  {
   "cell_type": "markdown",
   "id": "f3befed3-2e77-4eec-b0f6-40ff535a7627",
   "metadata": {},
   "source": [
    "##### Distribution Description\n",
    "\n",
    "This is a discrete distribution made up of a collection of Bernoulli events, i.e a collection of binary events where each event has two modes (failure and success). The distribution models<br>\n",
    "the successes based on the number of trials ran and the probability (p) of individual event success. Peng 2020 highlights how the the individual events are independent from one another where<br>\n",
    "the results of next event are not effected by the previous event, this is due to the model resamping on successive trials.\n",
    "\n",
    "As demonstrated in *Figure 7* below the shape of the distribution alters with the number of trials ran and the probability of trial success. When the trial count is of sufficient scale the distribution<br> appears as a left skewed bell curve when p <0.5 and a right skewed bell curve when p >0.5. A normal bell curve shape is obtaiend when:\n",
    "- The number of trials ran is large.\n",
    "- The probability of success is close to 0.5."
   ]
  },
  {
   "cell_type": "code",
   "execution_count": 12,
   "id": "7c7f6e73-298a-411f-8acd-e5c79c31eee8",
   "metadata": {},
   "outputs": [
    {
     "data": {
      "image/png": "[encoded data removed]",
      "text/plain": [
       "<Figure size 1080x432 with 9 Axes>"
      ]
     },
     "metadata": {},
     "output_type": "display_data"
    }
   ],
   "source": [
    "def plot_binomial_array(subplot_ref, trial_num, p):\n",
    "    array = rng.binomial(trial_num, p, 100000)\n",
    "    axs[subplot_ref].hist(array, bins = 100)\n",
    "    axs[subplot_ref].title.set_text('trial count = {}   probability = {}'.format(trial_num, p))\n",
    "    axs[subplot_ref].set_xticks([])\n",
    "    axs[subplot_ref].set_yticks([])\n",
    "\n",
    "Fig, axs = plt.subplots(3, 3, sharex = False, sharey = False, figsize = (15, 6))\n",
    "plt.figtext(0.5, -0.05, 'Figure 8', wrap = True, horizontalalignment = 'center', fontsize = 15)\n",
    "axs[2, 1].set_xlabel('Number of successes')        \n",
    "axs[1, 0].set_ylabel('p (x)')   \n",
    "\n",
    "plot_binomial_array((0, 0), trial_num = 10, p = 0.1)\n",
    "plot_binomial_array((0, 1), trial_num = 10, p = 0.5)\n",
    "plot_binomial_array((0, 2), trial_num = 10, p = 0.9)\n",
    "\n",
    "plot_binomial_array((1, 0), trial_num = 100, p = 0.1)\n",
    "plot_binomial_array((1, 1), trial_num = 100, p = 0.5)\n",
    "plot_binomial_array((1, 2), trial_num = 100, p = 0.9)\n",
    "\n",
    "plot_binomial_array((2, 0), trial_num = 500, p = 0.1)\n",
    "plot_binomial_array((2, 1), trial_num = 500, p = 0.5)\n",
    "plot_binomial_array((2, 2), trial_num = 500, p = 0.9)\n",
    "\n",
    "plt.tight_layout()\n"
   ]
  },
  {
   "cell_type": "markdown",
   "id": "950ace13-8f01-45a9-bf41-458602e9411d",
   "metadata": {},
   "source": [
    "##### Probability Mass Function\n",
    "<h3>$P(N)={n \\choose N}{p^N}{(1-p)}^{n-N}$ <h3>"
   ]
  },
  {
   "cell_type": "code",
   "execution_count": 13,
   "id": "36289cef-9dfe-40f9-a443-65d45020c009",
   "metadata": {},
   "outputs": [],
   "source": [
    "\n",
    "# test the numPy binomial function vs. probability mass function\n",
    "trial_num = 10\n",
    "p = 0.8             # 80 % probability of success"
   ]
  },
  {
   "cell_type": "code",
   "execution_count": 14,
   "id": "dabbd427-c937-49fe-8932-e55011bddbc0",
   "metadata": {},
   "outputs": [],
   "source": [
    "# generate binomial array using numPy \n",
    "binom_array = rng.binomial(trial_num, p, 100000)"
   ]
  },
  {
   "cell_type": "code",
   "execution_count": 15,
   "id": "280c0637-7326-43ae-b6bb-031696194298",
   "metadata": {},
   "outputs": [],
   "source": [
    "# implement probability mass function\n",
    "from scipy.stats import binom\n",
    "\n",
    "successes_dict = {'successes': list(range(0, trial_num + 1))}     # make dict for trial number range\n",
    "p_check_table = pd.DataFrame(successes_dict)                      # generate table from dict\n",
    "prob = lambda x:binom.pmf(x, trial_num, p)                        # define lamda function to apply pmf\n",
    "p_check_table['prob'] = p_check_table['successes'].apply(prob)    # apply pmf to successes column"
   ]
  },
  {
   "cell_type": "code",
   "execution_count": 16,
   "id": "9dfab5aa-d1e7-4722-92cc-556260aedc76",
   "metadata": {},
   "outputs": [
    {
     "name": "stdout",
     "output_type": "stream",
     "text": [
      "\n",
      "           Trials = 10 for both sub plots, probability of success in each trial\n",
      "           is 80 %. Sub plot 1 used numPys binomial function to generate an\n",
      "           array of trial success counts. Sub plot 2 applied the probability\n",
      "           mass function to the trial range to return the probability of\n",
      "           success for each trial. The probabilites shown in sub plot 2 align\n",
      "           with results obtained in subplot 1, where trials with the highest\n",
      "           probability of success did succeed more.\n",
      "\n"
     ]
    },
    {
     "data": {
      "image/png": "[encoded data removed]",
      "text/plain": [
       "<Figure size 576x360 with 2 Axes>"
      ]
     },
     "metadata": {
      "needs_background": "light"
     },
     "output_type": "display_data"
    }
   ],
   "source": [
    "fig, (ax1, ax2) = plt.subplots(1, 2, figsize = (8, 5))\n",
    "plt.figtext(0.5, 0, 'Figure 9', wrap = True, horizontalalignment = 'center', fontsize = 15); \n",
    "\n",
    "ax1.hist(binom_array, bins = 10)\n",
    "ax2.bar(p_check_table['successes'], p_check_table['prob'])\n",
    "\n",
    "ax1.set_title('sub plot 1\\nnumPy binomial generator')\n",
    "ax1.set_xlabel('k (consecutive successes)')\n",
    "ax1.set_ylabel('Success Count')\n",
    "\n",
    "ax2.set_title('sub plot 2\\nprobabiltiy mass function check')\n",
    "ax2.set_xlabel('k (consecutive successes)')\n",
    "ax2.set_ylabel('Success Probability')\n",
    "plt.tight_layout()\n",
    "\n",
    "\n",
    "# description for plot\n",
    "string_spacer = [' ' * 11 for i in range(12)]\n",
    "print('\\n{}Trials = 10 for both sub plots, probability of success in each trial\\n\\\n",
    "{}is 80 %. Sub plot 1 used numPys binomial function to generate an\\n\\\n",
    "{}array of trial success counts. Sub plot 2 applied the probability\\n\\\n",
    "{}mass function to the trial range to return the probability of\\n\\\n",
    "{}success for each trial. The probabilites shown in sub plot 2 align\\n\\\n",
    "{}with results obtained in subplot 1, where trials with the highest\\n\\\n",
    "{}probability of success did succeed more.\\n'.format(*string_spacer))\n"
   ]
  },
  {
   "cell_type": "markdown",
   "id": "03e3d081-7810-4df9-924e-25cfb970a40e",
   "metadata": {},
   "source": [
    "\n",
    "##### Modelling Real World Data\n",
    "\n",
    "Hessing 2019 describes how any real world scenario's can be modelled if they obey the following criteria: \n",
    "\n",
    "The model must have:\n",
    "1. Fixed trials that can not be altered during course of analysis\n",
    "2. Independent trials where results from one trial will not effect result of another trial\n",
    "3. Fixed probability of success accross all trials\n",
    "4. Two mutually exclusive outcomes for each trial\n",
    "\n",
    "**Real world case:** <br>\n",
    "Model a Call Centre using the following stats:\n",
    "- 500 employees\n",
    "- Averages 100 calls a day\n",
    "- Probability of sale = 2%\n",
    "- Average profit for each sale = 10 euro\n",
    "- Average pay = 125 euro / day\n",
    "\n"
   ]
  },
  {
   "cell_type": "code",
   "execution_count": 17,
   "id": "19c3f78d-84cc-46f7-86c2-e9a1c8647ba3",
   "metadata": {},
   "outputs": [
    {
     "data": {
      "image/png": "[encoded data removed]",
      "text/plain": [
       "<Figure size 720x432 with 1 Axes>"
      ]
     },
     "metadata": {
      "needs_background": "light"
     },
     "output_type": "display_data"
    }
   ],
   "source": [
    "\n",
    "# Call Center Simulation\n",
    "def model_call_centre(p):\n",
    "    staff_count = 100\n",
    "    daily_wage = 100      \n",
    "    daily_call_count = 100     # Number of  calls per employee      \n",
    "    revenue_per_call = 35\n",
    "    \n",
    "\n",
    "    # Binomial random variables of call center employees\n",
    "    array = [np.sum(rng.binomial(daily_call_count, p, size = staff_count)) for i in range(366)] \n",
    "    profit = np.array(array)*revenue_per_call - staff_count * daily_wage\n",
    "    return profit\n",
    "\n",
    "call_centre_worse = model_call_centre(p = 0.05)    \n",
    "call_centre_better = model_call_centre(p = 0.06)   \n",
    "\n",
    "Fig, ax = plt.subplots(figsize = (10, 6))\n",
    "ax.hist(call_centre_worse, bins = 20,  label = \"5 % conversion on calls\", density = True) \n",
    "ax.hist(call_centre_better, bins = 30, label = \"10 % conversion on calls\", density = True) \n",
    "plt.figtext(0.5, -0.05, 'Figure 10', wrap = True, horizontalalignment = 'center', fontsize = 15); \n",
    "ax.title.set_text('Binomial distribution of Call centre annual profit')\n",
    "ax.set_xlabel('profit')\n",
    "ax.set_ylabel('frequency')\n",
    "plt.legend()\n",
    "plt.tight_layout();"
   ]
  },
  {
   "cell_type": "code",
   "execution_count": null,
   "id": "bf9df869-a32b-4c54-9d19-d83164317c84",
   "metadata": {},
   "outputs": [],
   "source": []
  },
  {
   "cell_type": "markdown",
   "id": "153a76ee-9504-4c21-8f41-e1997f9b0d32",
   "metadata": {},
   "source": [
    "### Seed"
   ]
  },
  {
   "cell_type": "markdown",
   "id": "2cce23cc-8934-4c0c-88c7-0c4b96e842e8",
   "metadata": {},
   "source": [
    "### References\n",
    "\n",
    "[1]. Tutorialspoint, 2021, NumPy Tutorial, Available at: https://www.tutorialspoint.com/numpy/index.htm (Accessed: 21 October 2021).<br>\n",
    "\n",
    "<br> \n",
    "\n",
    "[2]. Soklaski, R, 2020, “Vectorized” Operations: Optimized Computations on NumPy Arrays, Available at:<br> https://www.pythonlikeyoumeanit.com/Module3_IntroducingNumpy/VectorizedOperations.html# (Accessed: 21 October 2021).<br>\n",
    "\n",
    "<br> \n",
    "\n",
    "[3]. Mahto, P, 2020, NumPy For Machine Learning, Available at: https://medium.com/mlpoint/numpy-for-machine-learning-211a3e58b574<br>\n",
    "(Accessed: 26 October 2021).<br>\n",
    "\n",
    "<br>\n",
    "\n",
    "[4]. Bertoldi, D, 2019, Building a Pseudorandom Number Generator, Available at: https://www.tutorialspoint.com/numpy/index.htm<br>\n",
    " (Accessed: 26 October 2021).<br>\n",
    " \n",
    "<br>\n",
    " \n",
    "[5]. Harris, C.R. et al., 2020. Array programming with NumPy. Nature, 585, pp.357–362. <br>\n",
    "\n",
    "<br>\n",
    " \n",
    "[6]  Sarkar, T, 2020, How to generate random variables from scratch, Available at:<br>\n",
    "https://towardsdatascience.com/how-to-generate-random-variables-from-scratch-no-library-used-4b71eb3c8dc7 (Accessed: 27 October 2021). <br>\n",
    "\n",
    "\n",
    "<br>\n",
    "<br>\n",
    "<br>\n",
    "<br>\n",
    "<br>\n"
   ]
  },
  {
   "cell_type": "code",
   "execution_count": null,
   "id": "6c9b13bb-0339-4bfa-8a71-87939d535c06",
   "metadata": {},
   "outputs": [],
   "source": []
  }
 ],
 "metadata": {
  "kernelspec": {
   "display_name": "Python 3",
   "language": "python",
   "name": "python3"
  },
  "language_info": {
   "codemirror_mode": {
    "name": "ipython",
    "version": 3
   },
   "file_extension": ".py",
   "mimetype": "text/x-python",
   "name": "python",
   "nbconvert_exporter": "python",
   "pygments_lexer": "ipython3",
   "version": "3.8.8"
  }
 },
 "nbformat": 4,
 "nbformat_minor": 5
}
